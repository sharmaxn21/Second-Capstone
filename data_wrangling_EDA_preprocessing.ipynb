{
 "cells": [
  {
   "cell_type": "markdown",
   "id": "9d86c46b",
   "metadata": {},
   "source": [
    "# Import Necessary Pacakges"
   ]
  },
  {
   "cell_type": "code",
   "execution_count": 1,
   "id": "a9f39192",
   "metadata": {},
   "outputs": [],
   "source": [
    "import numpy as np\n",
    "import pandas as pd\n",
    "import matplotlib.pyplot as plt\n",
    "import seaborn as sns\n",
    "import os\n",
    "from pandas_profiling import ProfileReport\n"
   ]
  },
  {
   "cell_type": "code",
   "execution_count": 2,
   "id": "e264b4bf",
   "metadata": {},
   "outputs": [],
   "source": [
    "data = pd.read_csv(\"covid.csv\")\n",
    "df = pd.DataFrame(data)"
   ]
  },
  {
   "cell_type": "code",
   "execution_count": 3,
   "id": "1ccda40b",
   "metadata": {},
   "outputs": [
    {
     "data": {
      "text/html": [
       "<div>\n",
       "<style scoped>\n",
       "    .dataframe tbody tr th:only-of-type {\n",
       "        vertical-align: middle;\n",
       "    }\n",
       "\n",
       "    .dataframe tbody tr th {\n",
       "        vertical-align: top;\n",
       "    }\n",
       "\n",
       "    .dataframe thead th {\n",
       "        text-align: right;\n",
       "    }\n",
       "</style>\n",
       "<table border=\"1\" class=\"dataframe\">\n",
       "  <thead>\n",
       "    <tr style=\"text-align: right;\">\n",
       "      <th></th>\n",
       "      <th>Date</th>\n",
       "      <th>ID</th>\n",
       "      <th>y</th>\n",
       "      <th>Age</th>\n",
       "      <th>Sex</th>\n",
       "      <th>Hematocrit</th>\n",
       "      <th>Hemoglobin</th>\n",
       "      <th>RedBloodCells</th>\n",
       "      <th>Leukocytes</th>\n",
       "      <th>Platelets</th>\n",
       "      <th>...</th>\n",
       "      <th>Monocytes</th>\n",
       "      <th>Monocytes%</th>\n",
       "      <th>Lymphocytes</th>\n",
       "      <th>Lymphocytes%</th>\n",
       "      <th>Eosinophils</th>\n",
       "      <th>Eosinophils%</th>\n",
       "      <th>Basophils</th>\n",
       "      <th>Basophils%</th>\n",
       "      <th>Neutrophils</th>\n",
       "      <th>Neutrophils%</th>\n",
       "    </tr>\n",
       "  </thead>\n",
       "  <tbody>\n",
       "    <tr>\n",
       "      <th>0</th>\n",
       "      <td>2019-11-01</td>\n",
       "      <td>031c2dbbb442fbf34f10b8ae8c449f20e3e28879</td>\n",
       "      <td>0</td>\n",
       "      <td>52.3</td>\n",
       "      <td>F</td>\n",
       "      <td>36.8</td>\n",
       "      <td>12.9</td>\n",
       "      <td>4.25</td>\n",
       "      <td>6.13</td>\n",
       "      <td>220</td>\n",
       "      <td>...</td>\n",
       "      <td>313</td>\n",
       "      <td>5.1</td>\n",
       "      <td>1833</td>\n",
       "      <td>29.9</td>\n",
       "      <td>270</td>\n",
       "      <td>4.4</td>\n",
       "      <td>49</td>\n",
       "      <td>0.8</td>\n",
       "      <td>3653</td>\n",
       "      <td>59.6</td>\n",
       "    </tr>\n",
       "    <tr>\n",
       "      <th>1</th>\n",
       "      <td>2019-11-01</td>\n",
       "      <td>07cc82b2ac0e5f5c9506f66925c2fab9a49bb2bd</td>\n",
       "      <td>0</td>\n",
       "      <td>58.3</td>\n",
       "      <td>M</td>\n",
       "      <td>44.4</td>\n",
       "      <td>14.9</td>\n",
       "      <td>4.89</td>\n",
       "      <td>5.99</td>\n",
       "      <td>148</td>\n",
       "      <td>...</td>\n",
       "      <td>288</td>\n",
       "      <td>4.8</td>\n",
       "      <td>779</td>\n",
       "      <td>13.0</td>\n",
       "      <td>78</td>\n",
       "      <td>1.3</td>\n",
       "      <td>30</td>\n",
       "      <td>0.5</td>\n",
       "      <td>4816</td>\n",
       "      <td>80.4</td>\n",
       "    </tr>\n",
       "    <tr>\n",
       "      <th>2</th>\n",
       "      <td>2019-11-01</td>\n",
       "      <td>0beed42a87bf4a0727f371273d6fb50610da2ede</td>\n",
       "      <td>0</td>\n",
       "      <td>69.3</td>\n",
       "      <td>M</td>\n",
       "      <td>39.7</td>\n",
       "      <td>13.5</td>\n",
       "      <td>4.44</td>\n",
       "      <td>7.42</td>\n",
       "      <td>130</td>\n",
       "      <td>...</td>\n",
       "      <td>579</td>\n",
       "      <td>7.8</td>\n",
       "      <td>2078</td>\n",
       "      <td>28.0</td>\n",
       "      <td>89</td>\n",
       "      <td>1.2</td>\n",
       "      <td>59</td>\n",
       "      <td>0.8</td>\n",
       "      <td>4615</td>\n",
       "      <td>62.2</td>\n",
       "    </tr>\n",
       "    <tr>\n",
       "      <th>3</th>\n",
       "      <td>2019-11-01</td>\n",
       "      <td>10af03c78251959c15d84bb8118f8dc38121ce8a</td>\n",
       "      <td>0</td>\n",
       "      <td>29.3</td>\n",
       "      <td>M</td>\n",
       "      <td>40.3</td>\n",
       "      <td>14.3</td>\n",
       "      <td>4.71</td>\n",
       "      <td>6.03</td>\n",
       "      <td>204</td>\n",
       "      <td>...</td>\n",
       "      <td>368</td>\n",
       "      <td>6.1</td>\n",
       "      <td>2430</td>\n",
       "      <td>40.3</td>\n",
       "      <td>90</td>\n",
       "      <td>1.5</td>\n",
       "      <td>42</td>\n",
       "      <td>0.7</td>\n",
       "      <td>3087</td>\n",
       "      <td>51.2</td>\n",
       "    </tr>\n",
       "    <tr>\n",
       "      <th>4</th>\n",
       "      <td>2019-11-01</td>\n",
       "      <td>10b7bd07f47e984a595b2b5be1e0500265964123</td>\n",
       "      <td>0</td>\n",
       "      <td>38.3</td>\n",
       "      <td>M</td>\n",
       "      <td>45.4</td>\n",
       "      <td>15.3</td>\n",
       "      <td>5.37</td>\n",
       "      <td>8.92</td>\n",
       "      <td>157</td>\n",
       "      <td>...</td>\n",
       "      <td>517</td>\n",
       "      <td>5.8</td>\n",
       "      <td>1276</td>\n",
       "      <td>14.3</td>\n",
       "      <td>98</td>\n",
       "      <td>1.1</td>\n",
       "      <td>18</td>\n",
       "      <td>0.2</td>\n",
       "      <td>7011</td>\n",
       "      <td>78.6</td>\n",
       "    </tr>\n",
       "  </tbody>\n",
       "</table>\n",
       "<p>5 rows × 25 columns</p>\n",
       "</div>"
      ],
      "text/plain": [
       "         Date                                        ID  y   Age Sex  \\\n",
       "0  2019-11-01  031c2dbbb442fbf34f10b8ae8c449f20e3e28879  0  52.3   F   \n",
       "1  2019-11-01  07cc82b2ac0e5f5c9506f66925c2fab9a49bb2bd  0  58.3   M   \n",
       "2  2019-11-01  0beed42a87bf4a0727f371273d6fb50610da2ede  0  69.3   M   \n",
       "3  2019-11-01  10af03c78251959c15d84bb8118f8dc38121ce8a  0  29.3   M   \n",
       "4  2019-11-01  10b7bd07f47e984a595b2b5be1e0500265964123  0  38.3   M   \n",
       "\n",
       "   Hematocrit  Hemoglobin  RedBloodCells  Leukocytes  Platelets  ...  \\\n",
       "0        36.8        12.9           4.25        6.13        220  ...   \n",
       "1        44.4        14.9           4.89        5.99        148  ...   \n",
       "2        39.7        13.5           4.44        7.42        130  ...   \n",
       "3        40.3        14.3           4.71        6.03        204  ...   \n",
       "4        45.4        15.3           5.37        8.92        157  ...   \n",
       "\n",
       "   Monocytes  Monocytes%  Lymphocytes  Lymphocytes%  Eosinophils  \\\n",
       "0        313         5.1         1833          29.9          270   \n",
       "1        288         4.8          779          13.0           78   \n",
       "2        579         7.8         2078          28.0           89   \n",
       "3        368         6.1         2430          40.3           90   \n",
       "4        517         5.8         1276          14.3           98   \n",
       "\n",
       "   Eosinophils%  Basophils  Basophils%  Neutrophils  Neutrophils%  \n",
       "0           4.4         49         0.8         3653          59.6  \n",
       "1           1.3         30         0.5         4816          80.4  \n",
       "2           1.2         59         0.8         4615          62.2  \n",
       "3           1.5         42         0.7         3087          51.2  \n",
       "4           1.1         18         0.2         7011          78.6  \n",
       "\n",
       "[5 rows x 25 columns]"
      ]
     },
     "execution_count": 3,
     "metadata": {},
     "output_type": "execute_result"
    }
   ],
   "source": [
    "df.head(5)"
   ]
  },
  {
   "cell_type": "code",
   "execution_count": 4,
   "id": "d7c46495",
   "metadata": {},
   "outputs": [
    {
     "name": "stdout",
     "output_type": "stream",
     "text": [
      "There are 14681 rows and 25 columns\n"
     ]
    }
   ],
   "source": [
    "nRow, nCol = df.shape\n",
    "print(f'There are {nRow} rows and {nCol} columns')"
   ]
  },
  {
   "cell_type": "code",
   "execution_count": 5,
   "id": "73a0d4e4",
   "metadata": {},
   "outputs": [
    {
     "data": {
      "text/plain": [
       "Index(['Date', 'ID', 'y', 'Age', 'Sex', 'Hematocrit', 'Hemoglobin',\n",
       "       'RedBloodCells', 'Leukocytes', 'Platelets', 'MPV', 'MCV', 'MCHC', 'MCH',\n",
       "       'RDW', 'Monocytes', 'Monocytes%', 'Lymphocytes', 'Lymphocytes%',\n",
       "       'Eosinophils', 'Eosinophils%', 'Basophils', 'Basophils%', 'Neutrophils',\n",
       "       'Neutrophils%'],\n",
       "      dtype='object')"
      ]
     },
     "execution_count": 5,
     "metadata": {},
     "output_type": "execute_result"
    }
   ],
   "source": [
    "df.columns"
   ]
  },
  {
   "cell_type": "code",
   "execution_count": 6,
   "id": "f939da03",
   "metadata": {},
   "outputs": [
    {
     "name": "stdout",
     "output_type": "stream",
     "text": [
      "<class 'pandas.core.frame.DataFrame'>\n",
      "RangeIndex: 14681 entries, 0 to 14680\n",
      "Data columns (total 25 columns):\n",
      " #   Column         Non-Null Count  Dtype  \n",
      "---  ------         --------------  -----  \n",
      " 0   Date           14681 non-null  object \n",
      " 1   ID             14681 non-null  object \n",
      " 2   y              14681 non-null  int64  \n",
      " 3   Age            14681 non-null  float64\n",
      " 4   Sex            14681 non-null  object \n",
      " 5   Hematocrit     14681 non-null  float64\n",
      " 6   Hemoglobin     14681 non-null  float64\n",
      " 7   RedBloodCells  14681 non-null  float64\n",
      " 8   Leukocytes     14681 non-null  float64\n",
      " 9   Platelets      14681 non-null  int64  \n",
      " 10  MPV            14681 non-null  float64\n",
      " 11  MCV            14681 non-null  float64\n",
      " 12  MCHC           14681 non-null  float64\n",
      " 13  MCH            14681 non-null  float64\n",
      " 14  RDW            14681 non-null  float64\n",
      " 15  Monocytes      14681 non-null  int64  \n",
      " 16  Monocytes%     14681 non-null  float64\n",
      " 17  Lymphocytes    14681 non-null  int64  \n",
      " 18  Lymphocytes%   14681 non-null  float64\n",
      " 19  Eosinophils    14681 non-null  int64  \n",
      " 20  Eosinophils%   14681 non-null  float64\n",
      " 21  Basophils      14681 non-null  int64  \n",
      " 22  Basophils%     14681 non-null  float64\n",
      " 23  Neutrophils    14681 non-null  int64  \n",
      " 24  Neutrophils%   14681 non-null  float64\n",
      "dtypes: float64(15), int64(7), object(3)\n",
      "memory usage: 2.8+ MB\n"
     ]
    }
   ],
   "source": [
    "df.info()"
   ]
  },
  {
   "cell_type": "code",
   "execution_count": 7,
   "id": "6e2e338c",
   "metadata": {},
   "outputs": [
    {
     "data": {
      "text/html": [
       "<div>\n",
       "<style scoped>\n",
       "    .dataframe tbody tr th:only-of-type {\n",
       "        vertical-align: middle;\n",
       "    }\n",
       "\n",
       "    .dataframe tbody tr th {\n",
       "        vertical-align: top;\n",
       "    }\n",
       "\n",
       "    .dataframe thead th {\n",
       "        text-align: right;\n",
       "    }\n",
       "</style>\n",
       "<table border=\"1\" class=\"dataframe\">\n",
       "  <thead>\n",
       "    <tr style=\"text-align: right;\">\n",
       "      <th></th>\n",
       "      <th>y</th>\n",
       "      <th>Age</th>\n",
       "      <th>Sex</th>\n",
       "      <th>Hematocrit</th>\n",
       "      <th>Hemoglobin</th>\n",
       "      <th>RedBloodCells</th>\n",
       "      <th>Leukocytes</th>\n",
       "      <th>Platelets</th>\n",
       "      <th>MPV</th>\n",
       "      <th>MCV</th>\n",
       "      <th>...</th>\n",
       "      <th>Monocytes</th>\n",
       "      <th>Monocytes%</th>\n",
       "      <th>Lymphocytes</th>\n",
       "      <th>Lymphocytes%</th>\n",
       "      <th>Eosinophils</th>\n",
       "      <th>Eosinophils%</th>\n",
       "      <th>Basophils</th>\n",
       "      <th>Basophils%</th>\n",
       "      <th>Neutrophils</th>\n",
       "      <th>Neutrophils%</th>\n",
       "    </tr>\n",
       "  </thead>\n",
       "  <tbody>\n",
       "    <tr>\n",
       "      <th>0</th>\n",
       "      <td>0</td>\n",
       "      <td>52.3</td>\n",
       "      <td>F</td>\n",
       "      <td>36.8</td>\n",
       "      <td>12.9</td>\n",
       "      <td>4.25</td>\n",
       "      <td>6.13</td>\n",
       "      <td>220</td>\n",
       "      <td>10.6</td>\n",
       "      <td>86.6</td>\n",
       "      <td>...</td>\n",
       "      <td>313</td>\n",
       "      <td>5.1</td>\n",
       "      <td>1833</td>\n",
       "      <td>29.9</td>\n",
       "      <td>270</td>\n",
       "      <td>4.4</td>\n",
       "      <td>49</td>\n",
       "      <td>0.8</td>\n",
       "      <td>3653</td>\n",
       "      <td>59.6</td>\n",
       "    </tr>\n",
       "    <tr>\n",
       "      <th>1</th>\n",
       "      <td>0</td>\n",
       "      <td>58.3</td>\n",
       "      <td>M</td>\n",
       "      <td>44.4</td>\n",
       "      <td>14.9</td>\n",
       "      <td>4.89</td>\n",
       "      <td>5.99</td>\n",
       "      <td>148</td>\n",
       "      <td>10.4</td>\n",
       "      <td>90.8</td>\n",
       "      <td>...</td>\n",
       "      <td>288</td>\n",
       "      <td>4.8</td>\n",
       "      <td>779</td>\n",
       "      <td>13.0</td>\n",
       "      <td>78</td>\n",
       "      <td>1.3</td>\n",
       "      <td>30</td>\n",
       "      <td>0.5</td>\n",
       "      <td>4816</td>\n",
       "      <td>80.4</td>\n",
       "    </tr>\n",
       "    <tr>\n",
       "      <th>2</th>\n",
       "      <td>0</td>\n",
       "      <td>69.3</td>\n",
       "      <td>M</td>\n",
       "      <td>39.7</td>\n",
       "      <td>13.5</td>\n",
       "      <td>4.44</td>\n",
       "      <td>7.42</td>\n",
       "      <td>130</td>\n",
       "      <td>11.0</td>\n",
       "      <td>89.4</td>\n",
       "      <td>...</td>\n",
       "      <td>579</td>\n",
       "      <td>7.8</td>\n",
       "      <td>2078</td>\n",
       "      <td>28.0</td>\n",
       "      <td>89</td>\n",
       "      <td>1.2</td>\n",
       "      <td>59</td>\n",
       "      <td>0.8</td>\n",
       "      <td>4615</td>\n",
       "      <td>62.2</td>\n",
       "    </tr>\n",
       "    <tr>\n",
       "      <th>3</th>\n",
       "      <td>0</td>\n",
       "      <td>29.3</td>\n",
       "      <td>M</td>\n",
       "      <td>40.3</td>\n",
       "      <td>14.3</td>\n",
       "      <td>4.71</td>\n",
       "      <td>6.03</td>\n",
       "      <td>204</td>\n",
       "      <td>9.8</td>\n",
       "      <td>85.6</td>\n",
       "      <td>...</td>\n",
       "      <td>368</td>\n",
       "      <td>6.1</td>\n",
       "      <td>2430</td>\n",
       "      <td>40.3</td>\n",
       "      <td>90</td>\n",
       "      <td>1.5</td>\n",
       "      <td>42</td>\n",
       "      <td>0.7</td>\n",
       "      <td>3087</td>\n",
       "      <td>51.2</td>\n",
       "    </tr>\n",
       "    <tr>\n",
       "      <th>4</th>\n",
       "      <td>0</td>\n",
       "      <td>38.3</td>\n",
       "      <td>M</td>\n",
       "      <td>45.4</td>\n",
       "      <td>15.3</td>\n",
       "      <td>5.37</td>\n",
       "      <td>8.92</td>\n",
       "      <td>157</td>\n",
       "      <td>11.5</td>\n",
       "      <td>84.5</td>\n",
       "      <td>...</td>\n",
       "      <td>517</td>\n",
       "      <td>5.8</td>\n",
       "      <td>1276</td>\n",
       "      <td>14.3</td>\n",
       "      <td>98</td>\n",
       "      <td>1.1</td>\n",
       "      <td>18</td>\n",
       "      <td>0.2</td>\n",
       "      <td>7011</td>\n",
       "      <td>78.6</td>\n",
       "    </tr>\n",
       "    <tr>\n",
       "      <th>...</th>\n",
       "      <td>...</td>\n",
       "      <td>...</td>\n",
       "      <td>...</td>\n",
       "      <td>...</td>\n",
       "      <td>...</td>\n",
       "      <td>...</td>\n",
       "      <td>...</td>\n",
       "      <td>...</td>\n",
       "      <td>...</td>\n",
       "      <td>...</td>\n",
       "      <td>...</td>\n",
       "      <td>...</td>\n",
       "      <td>...</td>\n",
       "      <td>...</td>\n",
       "      <td>...</td>\n",
       "      <td>...</td>\n",
       "      <td>...</td>\n",
       "      <td>...</td>\n",
       "      <td>...</td>\n",
       "      <td>...</td>\n",
       "      <td>...</td>\n",
       "    </tr>\n",
       "    <tr>\n",
       "      <th>14676</th>\n",
       "      <td>1</td>\n",
       "      <td>88.1</td>\n",
       "      <td>F</td>\n",
       "      <td>35.3</td>\n",
       "      <td>10.7</td>\n",
       "      <td>3.73</td>\n",
       "      <td>7.55</td>\n",
       "      <td>226</td>\n",
       "      <td>10.0</td>\n",
       "      <td>94.6</td>\n",
       "      <td>...</td>\n",
       "      <td>778</td>\n",
       "      <td>10.3</td>\n",
       "      <td>1200</td>\n",
       "      <td>15.9</td>\n",
       "      <td>174</td>\n",
       "      <td>2.3</td>\n",
       "      <td>8</td>\n",
       "      <td>0.1</td>\n",
       "      <td>5391</td>\n",
       "      <td>71.4</td>\n",
       "    </tr>\n",
       "    <tr>\n",
       "      <th>14677</th>\n",
       "      <td>0</td>\n",
       "      <td>49.1</td>\n",
       "      <td>F</td>\n",
       "      <td>34.8</td>\n",
       "      <td>12.0</td>\n",
       "      <td>4.06</td>\n",
       "      <td>5.37</td>\n",
       "      <td>325</td>\n",
       "      <td>9.6</td>\n",
       "      <td>85.7</td>\n",
       "      <td>...</td>\n",
       "      <td>408</td>\n",
       "      <td>7.6</td>\n",
       "      <td>2143</td>\n",
       "      <td>39.9</td>\n",
       "      <td>102</td>\n",
       "      <td>1.9</td>\n",
       "      <td>48</td>\n",
       "      <td>0.9</td>\n",
       "      <td>2669</td>\n",
       "      <td>49.7</td>\n",
       "    </tr>\n",
       "    <tr>\n",
       "      <th>14678</th>\n",
       "      <td>1</td>\n",
       "      <td>59.1</td>\n",
       "      <td>M</td>\n",
       "      <td>37.4</td>\n",
       "      <td>12.6</td>\n",
       "      <td>4.72</td>\n",
       "      <td>10.69</td>\n",
       "      <td>387</td>\n",
       "      <td>9.8</td>\n",
       "      <td>79.2</td>\n",
       "      <td>...</td>\n",
       "      <td>673</td>\n",
       "      <td>6.3</td>\n",
       "      <td>2555</td>\n",
       "      <td>23.9</td>\n",
       "      <td>86</td>\n",
       "      <td>0.8</td>\n",
       "      <td>32</td>\n",
       "      <td>0.3</td>\n",
       "      <td>7344</td>\n",
       "      <td>68.7</td>\n",
       "    </tr>\n",
       "    <tr>\n",
       "      <th>14679</th>\n",
       "      <td>1</td>\n",
       "      <td>89.1</td>\n",
       "      <td>F</td>\n",
       "      <td>42.1</td>\n",
       "      <td>13.3</td>\n",
       "      <td>4.17</td>\n",
       "      <td>5.39</td>\n",
       "      <td>238</td>\n",
       "      <td>10.1</td>\n",
       "      <td>101.0</td>\n",
       "      <td>...</td>\n",
       "      <td>447</td>\n",
       "      <td>8.3</td>\n",
       "      <td>2318</td>\n",
       "      <td>43.0</td>\n",
       "      <td>302</td>\n",
       "      <td>5.6</td>\n",
       "      <td>22</td>\n",
       "      <td>0.4</td>\n",
       "      <td>2302</td>\n",
       "      <td>42.7</td>\n",
       "    </tr>\n",
       "    <tr>\n",
       "      <th>14680</th>\n",
       "      <td>0</td>\n",
       "      <td>85.1</td>\n",
       "      <td>F</td>\n",
       "      <td>34.9</td>\n",
       "      <td>10.8</td>\n",
       "      <td>3.51</td>\n",
       "      <td>6.77</td>\n",
       "      <td>241</td>\n",
       "      <td>12.0</td>\n",
       "      <td>99.4</td>\n",
       "      <td>...</td>\n",
       "      <td>508</td>\n",
       "      <td>7.5</td>\n",
       "      <td>1591</td>\n",
       "      <td>23.5</td>\n",
       "      <td>230</td>\n",
       "      <td>3.4</td>\n",
       "      <td>41</td>\n",
       "      <td>0.6</td>\n",
       "      <td>4400</td>\n",
       "      <td>65.0</td>\n",
       "    </tr>\n",
       "  </tbody>\n",
       "</table>\n",
       "<p>14681 rows × 23 columns</p>\n",
       "</div>"
      ],
      "text/plain": [
       "       y   Age Sex  Hematocrit  Hemoglobin  RedBloodCells  Leukocytes  \\\n",
       "0      0  52.3   F        36.8        12.9           4.25        6.13   \n",
       "1      0  58.3   M        44.4        14.9           4.89        5.99   \n",
       "2      0  69.3   M        39.7        13.5           4.44        7.42   \n",
       "3      0  29.3   M        40.3        14.3           4.71        6.03   \n",
       "4      0  38.3   M        45.4        15.3           5.37        8.92   \n",
       "...   ..   ...  ..         ...         ...            ...         ...   \n",
       "14676  1  88.1   F        35.3        10.7           3.73        7.55   \n",
       "14677  0  49.1   F        34.8        12.0           4.06        5.37   \n",
       "14678  1  59.1   M        37.4        12.6           4.72       10.69   \n",
       "14679  1  89.1   F        42.1        13.3           4.17        5.39   \n",
       "14680  0  85.1   F        34.9        10.8           3.51        6.77   \n",
       "\n",
       "       Platelets   MPV    MCV  ...  Monocytes  Monocytes%  Lymphocytes  \\\n",
       "0            220  10.6   86.6  ...        313         5.1         1833   \n",
       "1            148  10.4   90.8  ...        288         4.8          779   \n",
       "2            130  11.0   89.4  ...        579         7.8         2078   \n",
       "3            204   9.8   85.6  ...        368         6.1         2430   \n",
       "4            157  11.5   84.5  ...        517         5.8         1276   \n",
       "...          ...   ...    ...  ...        ...         ...          ...   \n",
       "14676        226  10.0   94.6  ...        778        10.3         1200   \n",
       "14677        325   9.6   85.7  ...        408         7.6         2143   \n",
       "14678        387   9.8   79.2  ...        673         6.3         2555   \n",
       "14679        238  10.1  101.0  ...        447         8.3         2318   \n",
       "14680        241  12.0   99.4  ...        508         7.5         1591   \n",
       "\n",
       "       Lymphocytes%  Eosinophils  Eosinophils%  Basophils  Basophils%  \\\n",
       "0              29.9          270           4.4         49         0.8   \n",
       "1              13.0           78           1.3         30         0.5   \n",
       "2              28.0           89           1.2         59         0.8   \n",
       "3              40.3           90           1.5         42         0.7   \n",
       "4              14.3           98           1.1         18         0.2   \n",
       "...             ...          ...           ...        ...         ...   \n",
       "14676          15.9          174           2.3          8         0.1   \n",
       "14677          39.9          102           1.9         48         0.9   \n",
       "14678          23.9           86           0.8         32         0.3   \n",
       "14679          43.0          302           5.6         22         0.4   \n",
       "14680          23.5          230           3.4         41         0.6   \n",
       "\n",
       "       Neutrophils  Neutrophils%  \n",
       "0             3653          59.6  \n",
       "1             4816          80.4  \n",
       "2             4615          62.2  \n",
       "3             3087          51.2  \n",
       "4             7011          78.6  \n",
       "...            ...           ...  \n",
       "14676         5391          71.4  \n",
       "14677         2669          49.7  \n",
       "14678         7344          68.7  \n",
       "14679         2302          42.7  \n",
       "14680         4400          65.0  \n",
       "\n",
       "[14681 rows x 23 columns]"
      ]
     },
     "execution_count": 7,
     "metadata": {},
     "output_type": "execute_result"
    }
   ],
   "source": [
    "df = df.drop('ID', axis = 1)\n",
    "df = df.drop('Date', axis = 1)\n",
    "df"
   ]
  },
  {
   "cell_type": "code",
   "execution_count": 8,
   "id": "128e50a9",
   "metadata": {},
   "outputs": [
    {
     "data": {
      "text/plain": [
       "y\n",
       "0    12664\n",
       "1     2017\n",
       "dtype: int64"
      ]
     },
     "execution_count": 8,
     "metadata": {},
     "output_type": "execute_result"
    }
   ],
   "source": [
    "df.groupby('y').size()"
   ]
  },
  {
   "cell_type": "code",
   "execution_count": 9,
   "id": "6dc4f422",
   "metadata": {},
   "outputs": [],
   "source": [
    "df= df.rename(columns = {'y': 'Diagnosis'})"
   ]
  },
  {
   "cell_type": "code",
   "execution_count": 10,
   "id": "4d198abc",
   "metadata": {},
   "outputs": [
    {
     "data": {
      "text/plain": [
       "Index(['Diagnosis', 'Age', 'Sex', 'Hematocrit', 'Hemoglobin', 'RedBloodCells',\n",
       "       'Leukocytes', 'Platelets', 'MPV', 'MCV', 'MCHC', 'MCH', 'RDW',\n",
       "       'Monocytes', 'Monocytes%', 'Lymphocytes', 'Lymphocytes%', 'Eosinophils',\n",
       "       'Eosinophils%', 'Basophils', 'Basophils%', 'Neutrophils',\n",
       "       'Neutrophils%'],\n",
       "      dtype='object')"
      ]
     },
     "execution_count": 10,
     "metadata": {},
     "output_type": "execute_result"
    }
   ],
   "source": [
    "df.columns"
   ]
  },
  {
   "cell_type": "code",
   "execution_count": 11,
   "id": "619c12eb",
   "metadata": {},
   "outputs": [],
   "source": [
    "df['Diagnosis'] = df.Diagnosis.astype('category')"
   ]
  },
  {
   "cell_type": "code",
   "execution_count": 12,
   "id": "9dfe36ee",
   "metadata": {},
   "outputs": [
    {
     "data": {
      "text/plain": [
       "Diagnosis        category\n",
       "Age               float64\n",
       "Sex                object\n",
       "Hematocrit        float64\n",
       "Hemoglobin        float64\n",
       "RedBloodCells     float64\n",
       "Leukocytes        float64\n",
       "Platelets           int64\n",
       "MPV               float64\n",
       "MCV               float64\n",
       "MCHC              float64\n",
       "MCH               float64\n",
       "RDW               float64\n",
       "Monocytes           int64\n",
       "Monocytes%        float64\n",
       "Lymphocytes         int64\n",
       "Lymphocytes%      float64\n",
       "Eosinophils         int64\n",
       "Eosinophils%      float64\n",
       "Basophils           int64\n",
       "Basophils%        float64\n",
       "Neutrophils         int64\n",
       "Neutrophils%      float64\n",
       "dtype: object"
      ]
     },
     "execution_count": 12,
     "metadata": {},
     "output_type": "execute_result"
    }
   ],
   "source": [
    "df.dtypes"
   ]
  },
  {
   "cell_type": "code",
   "execution_count": 13,
   "id": "8446926c",
   "metadata": {},
   "outputs": [],
   "source": [
    "%matplotlib inline"
   ]
  },
  {
   "cell_type": "code",
   "execution_count": 14,
   "id": "7d47fea4",
   "metadata": {},
   "outputs": [
    {
     "data": {
      "image/png": "[encoded data removed]",
      "text/plain": [
       "<Figure size 432x288 with 1 Axes>"
      ]
     },
     "metadata": {},
     "output_type": "display_data"
    }
   ],
   "source": [
    "colors = ['#C20078','#C1F80A']\n",
    "plot = df.Diagnosis.value_counts().plot(kind='pie', autopct='%1.1f%%', labels=['COVID Negative', 'COVID Positive'], colors = colors, explode=[0.1,0.1])"
   ]
  },
  {
   "cell_type": "markdown",
   "id": "2a6019bd",
   "metadata": {},
   "source": [
    "# Evaluate For Null Values:"
   ]
  },
  {
   "cell_type": "code",
   "execution_count": 15,
   "id": "5059a09d",
   "metadata": {},
   "outputs": [
    {
     "data": {
      "text/html": [
       "<div>\n",
       "<style scoped>\n",
       "    .dataframe tbody tr th:only-of-type {\n",
       "        vertical-align: middle;\n",
       "    }\n",
       "\n",
       "    .dataframe tbody tr th {\n",
       "        vertical-align: top;\n",
       "    }\n",
       "\n",
       "    .dataframe thead th {\n",
       "        text-align: right;\n",
       "    }\n",
       "</style>\n",
       "<table border=\"1\" class=\"dataframe\">\n",
       "  <thead>\n",
       "    <tr style=\"text-align: right;\">\n",
       "      <th></th>\n",
       "      <th>count</th>\n",
       "      <th>%</th>\n",
       "    </tr>\n",
       "  </thead>\n",
       "  <tbody>\n",
       "    <tr>\n",
       "      <th>Diagnosis</th>\n",
       "      <td>0</td>\n",
       "      <td>0.0</td>\n",
       "    </tr>\n",
       "    <tr>\n",
       "      <th>RDW</th>\n",
       "      <td>0</td>\n",
       "      <td>0.0</td>\n",
       "    </tr>\n",
       "    <tr>\n",
       "      <th>Neutrophils</th>\n",
       "      <td>0</td>\n",
       "      <td>0.0</td>\n",
       "    </tr>\n",
       "    <tr>\n",
       "      <th>Basophils%</th>\n",
       "      <td>0</td>\n",
       "      <td>0.0</td>\n",
       "    </tr>\n",
       "    <tr>\n",
       "      <th>Basophils</th>\n",
       "      <td>0</td>\n",
       "      <td>0.0</td>\n",
       "    </tr>\n",
       "    <tr>\n",
       "      <th>Eosinophils%</th>\n",
       "      <td>0</td>\n",
       "      <td>0.0</td>\n",
       "    </tr>\n",
       "    <tr>\n",
       "      <th>Eosinophils</th>\n",
       "      <td>0</td>\n",
       "      <td>0.0</td>\n",
       "    </tr>\n",
       "    <tr>\n",
       "      <th>Lymphocytes%</th>\n",
       "      <td>0</td>\n",
       "      <td>0.0</td>\n",
       "    </tr>\n",
       "    <tr>\n",
       "      <th>Lymphocytes</th>\n",
       "      <td>0</td>\n",
       "      <td>0.0</td>\n",
       "    </tr>\n",
       "    <tr>\n",
       "      <th>Monocytes%</th>\n",
       "      <td>0</td>\n",
       "      <td>0.0</td>\n",
       "    </tr>\n",
       "    <tr>\n",
       "      <th>Monocytes</th>\n",
       "      <td>0</td>\n",
       "      <td>0.0</td>\n",
       "    </tr>\n",
       "    <tr>\n",
       "      <th>MCH</th>\n",
       "      <td>0</td>\n",
       "      <td>0.0</td>\n",
       "    </tr>\n",
       "    <tr>\n",
       "      <th>Age</th>\n",
       "      <td>0</td>\n",
       "      <td>0.0</td>\n",
       "    </tr>\n",
       "    <tr>\n",
       "      <th>MCHC</th>\n",
       "      <td>0</td>\n",
       "      <td>0.0</td>\n",
       "    </tr>\n",
       "    <tr>\n",
       "      <th>MCV</th>\n",
       "      <td>0</td>\n",
       "      <td>0.0</td>\n",
       "    </tr>\n",
       "    <tr>\n",
       "      <th>MPV</th>\n",
       "      <td>0</td>\n",
       "      <td>0.0</td>\n",
       "    </tr>\n",
       "    <tr>\n",
       "      <th>Platelets</th>\n",
       "      <td>0</td>\n",
       "      <td>0.0</td>\n",
       "    </tr>\n",
       "    <tr>\n",
       "      <th>Leukocytes</th>\n",
       "      <td>0</td>\n",
       "      <td>0.0</td>\n",
       "    </tr>\n",
       "    <tr>\n",
       "      <th>RedBloodCells</th>\n",
       "      <td>0</td>\n",
       "      <td>0.0</td>\n",
       "    </tr>\n",
       "    <tr>\n",
       "      <th>Hemoglobin</th>\n",
       "      <td>0</td>\n",
       "      <td>0.0</td>\n",
       "    </tr>\n",
       "    <tr>\n",
       "      <th>Hematocrit</th>\n",
       "      <td>0</td>\n",
       "      <td>0.0</td>\n",
       "    </tr>\n",
       "    <tr>\n",
       "      <th>Sex</th>\n",
       "      <td>0</td>\n",
       "      <td>0.0</td>\n",
       "    </tr>\n",
       "    <tr>\n",
       "      <th>Neutrophils%</th>\n",
       "      <td>0</td>\n",
       "      <td>0.0</td>\n",
       "    </tr>\n",
       "  </tbody>\n",
       "</table>\n",
       "</div>"
      ],
      "text/plain": [
       "               count    %\n",
       "Diagnosis          0  0.0\n",
       "RDW                0  0.0\n",
       "Neutrophils        0  0.0\n",
       "Basophils%         0  0.0\n",
       "Basophils          0  0.0\n",
       "Eosinophils%       0  0.0\n",
       "Eosinophils        0  0.0\n",
       "Lymphocytes%       0  0.0\n",
       "Lymphocytes        0  0.0\n",
       "Monocytes%         0  0.0\n",
       "Monocytes          0  0.0\n",
       "MCH                0  0.0\n",
       "Age                0  0.0\n",
       "MCHC               0  0.0\n",
       "MCV                0  0.0\n",
       "MPV                0  0.0\n",
       "Platelets          0  0.0\n",
       "Leukocytes         0  0.0\n",
       "RedBloodCells      0  0.0\n",
       "Hemoglobin         0  0.0\n",
       "Hematocrit         0  0.0\n",
       "Sex                0  0.0\n",
       "Neutrophils%       0  0.0"
      ]
     },
     "execution_count": 15,
     "metadata": {},
     "output_type": "execute_result"
    }
   ],
   "source": [
    "missing = pd.concat([df.isnull().sum(), 100 * df.isnull().mean()], axis=1)\n",
    "missing.columns=['count', '%']\n",
    "missing.sort_values(by= 'count', ascending = False)"
   ]
  },
  {
   "cell_type": "markdown",
   "id": "d17759c9",
   "metadata": {},
   "source": [
    "It appears that I have no missing values in the data set"
   ]
  },
  {
   "cell_type": "markdown",
   "id": "91939e9c",
   "metadata": {},
   "source": [
    "# Evaluating The Numeric Features:"
   ]
  },
  {
   "cell_type": "code",
   "execution_count": 16,
   "id": "0c3eda71",
   "metadata": {},
   "outputs": [],
   "source": [
    "numerics = ['int64', 'float64']\n",
    "df_numeric = df.select_dtypes(include=numerics)"
   ]
  },
  {
   "cell_type": "code",
   "execution_count": 17,
   "id": "c3c0f060",
   "metadata": {},
   "outputs": [
    {
     "data": {
      "text/html": [
       "<div>\n",
       "<style scoped>\n",
       "    .dataframe tbody tr th:only-of-type {\n",
       "        vertical-align: middle;\n",
       "    }\n",
       "\n",
       "    .dataframe tbody tr th {\n",
       "        vertical-align: top;\n",
       "    }\n",
       "\n",
       "    .dataframe thead th {\n",
       "        text-align: right;\n",
       "    }\n",
       "</style>\n",
       "<table border=\"1\" class=\"dataframe\">\n",
       "  <thead>\n",
       "    <tr style=\"text-align: right;\">\n",
       "      <th></th>\n",
       "      <th>count</th>\n",
       "      <th>mean</th>\n",
       "      <th>std</th>\n",
       "      <th>min</th>\n",
       "      <th>25%</th>\n",
       "      <th>50%</th>\n",
       "      <th>75%</th>\n",
       "      <th>max</th>\n",
       "    </tr>\n",
       "  </thead>\n",
       "  <tbody>\n",
       "    <tr>\n",
       "      <th>Age</th>\n",
       "      <td>14681.0</td>\n",
       "      <td>45.080955</td>\n",
       "      <td>18.092217</td>\n",
       "      <td>0.10</td>\n",
       "      <td>34.00</td>\n",
       "      <td>43.50</td>\n",
       "      <td>56.80</td>\n",
       "      <td>89.10</td>\n",
       "    </tr>\n",
       "    <tr>\n",
       "      <th>Hematocrit</th>\n",
       "      <td>14681.0</td>\n",
       "      <td>40.321108</td>\n",
       "      <td>4.572492</td>\n",
       "      <td>16.17</td>\n",
       "      <td>37.60</td>\n",
       "      <td>40.50</td>\n",
       "      <td>43.40</td>\n",
       "      <td>63.60</td>\n",
       "    </tr>\n",
       "    <tr>\n",
       "      <th>Hemoglobin</th>\n",
       "      <td>14681.0</td>\n",
       "      <td>13.731252</td>\n",
       "      <td>1.664699</td>\n",
       "      <td>5.25</td>\n",
       "      <td>12.70</td>\n",
       "      <td>13.80</td>\n",
       "      <td>14.90</td>\n",
       "      <td>21.15</td>\n",
       "    </tr>\n",
       "    <tr>\n",
       "      <th>RedBloodCells</th>\n",
       "      <td>14681.0</td>\n",
       "      <td>4.661064</td>\n",
       "      <td>0.589580</td>\n",
       "      <td>1.79</td>\n",
       "      <td>4.31</td>\n",
       "      <td>4.67</td>\n",
       "      <td>5.04</td>\n",
       "      <td>7.70</td>\n",
       "    </tr>\n",
       "    <tr>\n",
       "      <th>Leukocytes</th>\n",
       "      <td>14681.0</td>\n",
       "      <td>7.514633</td>\n",
       "      <td>2.861598</td>\n",
       "      <td>0.53</td>\n",
       "      <td>5.60</td>\n",
       "      <td>7.01</td>\n",
       "      <td>8.86</td>\n",
       "      <td>81.84</td>\n",
       "    </tr>\n",
       "    <tr>\n",
       "      <th>Platelets</th>\n",
       "      <td>14681.0</td>\n",
       "      <td>242.594374</td>\n",
       "      <td>71.740445</td>\n",
       "      <td>9.00</td>\n",
       "      <td>196.00</td>\n",
       "      <td>236.00</td>\n",
       "      <td>281.00</td>\n",
       "      <td>891.00</td>\n",
       "    </tr>\n",
       "    <tr>\n",
       "      <th>MPV</th>\n",
       "      <td>14681.0</td>\n",
       "      <td>10.287869</td>\n",
       "      <td>0.941792</td>\n",
       "      <td>7.60</td>\n",
       "      <td>9.60</td>\n",
       "      <td>10.20</td>\n",
       "      <td>10.90</td>\n",
       "      <td>14.70</td>\n",
       "    </tr>\n",
       "    <tr>\n",
       "      <th>MCV</th>\n",
       "      <td>14681.0</td>\n",
       "      <td>86.796175</td>\n",
       "      <td>5.005622</td>\n",
       "      <td>55.10</td>\n",
       "      <td>84.10</td>\n",
       "      <td>87.00</td>\n",
       "      <td>89.70</td>\n",
       "      <td>130.40</td>\n",
       "    </tr>\n",
       "    <tr>\n",
       "      <th>MCHC</th>\n",
       "      <td>14681.0</td>\n",
       "      <td>34.035963</td>\n",
       "      <td>1.045723</td>\n",
       "      <td>27.40</td>\n",
       "      <td>33.40</td>\n",
       "      <td>34.00</td>\n",
       "      <td>34.70</td>\n",
       "      <td>38.60</td>\n",
       "    </tr>\n",
       "    <tr>\n",
       "      <th>MCH</th>\n",
       "      <td>14681.0</td>\n",
       "      <td>29.543968</td>\n",
       "      <td>1.919510</td>\n",
       "      <td>16.70</td>\n",
       "      <td>28.60</td>\n",
       "      <td>29.70</td>\n",
       "      <td>30.70</td>\n",
       "      <td>43.00</td>\n",
       "    </tr>\n",
       "    <tr>\n",
       "      <th>RDW</th>\n",
       "      <td>14681.0</td>\n",
       "      <td>13.024925</td>\n",
       "      <td>1.304113</td>\n",
       "      <td>10.70</td>\n",
       "      <td>12.30</td>\n",
       "      <td>12.80</td>\n",
       "      <td>13.40</td>\n",
       "      <td>26.80</td>\n",
       "    </tr>\n",
       "    <tr>\n",
       "      <th>Monocytes</th>\n",
       "      <td>14681.0</td>\n",
       "      <td>609.809618</td>\n",
       "      <td>268.334409</td>\n",
       "      <td>0.00</td>\n",
       "      <td>433.00</td>\n",
       "      <td>559.00</td>\n",
       "      <td>726.00</td>\n",
       "      <td>4487.00</td>\n",
       "    </tr>\n",
       "    <tr>\n",
       "      <th>Monocytes%</th>\n",
       "      <td>14681.0</td>\n",
       "      <td>8.444797</td>\n",
       "      <td>3.042613</td>\n",
       "      <td>0.00</td>\n",
       "      <td>6.60</td>\n",
       "      <td>8.00</td>\n",
       "      <td>9.70</td>\n",
       "      <td>60.80</td>\n",
       "    </tr>\n",
       "    <tr>\n",
       "      <th>Lymphocytes</th>\n",
       "      <td>14681.0</td>\n",
       "      <td>1976.176146</td>\n",
       "      <td>1131.704930</td>\n",
       "      <td>60.00</td>\n",
       "      <td>1389.00</td>\n",
       "      <td>1892.00</td>\n",
       "      <td>2439.00</td>\n",
       "      <td>73820.00</td>\n",
       "    </tr>\n",
       "    <tr>\n",
       "      <th>Lymphocytes%</th>\n",
       "      <td>14681.0</td>\n",
       "      <td>27.982015</td>\n",
       "      <td>11.370309</td>\n",
       "      <td>0.50</td>\n",
       "      <td>19.90</td>\n",
       "      <td>28.20</td>\n",
       "      <td>35.70</td>\n",
       "      <td>98.40</td>\n",
       "    </tr>\n",
       "    <tr>\n",
       "      <th>Eosinophils</th>\n",
       "      <td>14681.0</td>\n",
       "      <td>166.715959</td>\n",
       "      <td>181.564182</td>\n",
       "      <td>0.00</td>\n",
       "      <td>58.00</td>\n",
       "      <td>119.00</td>\n",
       "      <td>215.00</td>\n",
       "      <td>3929.00</td>\n",
       "    </tr>\n",
       "    <tr>\n",
       "      <th>Eosinophils%</th>\n",
       "      <td>14681.0</td>\n",
       "      <td>2.337495</td>\n",
       "      <td>2.342760</td>\n",
       "      <td>0.00</td>\n",
       "      <td>0.80</td>\n",
       "      <td>1.70</td>\n",
       "      <td>3.10</td>\n",
       "      <td>28.90</td>\n",
       "    </tr>\n",
       "    <tr>\n",
       "      <th>Basophils</th>\n",
       "      <td>14681.0</td>\n",
       "      <td>35.941217</td>\n",
       "      <td>22.227496</td>\n",
       "      <td>0.00</td>\n",
       "      <td>20.00</td>\n",
       "      <td>32.00</td>\n",
       "      <td>49.00</td>\n",
       "      <td>314.00</td>\n",
       "    </tr>\n",
       "    <tr>\n",
       "      <th>Basophils%</th>\n",
       "      <td>14681.0</td>\n",
       "      <td>0.511345</td>\n",
       "      <td>0.320402</td>\n",
       "      <td>0.00</td>\n",
       "      <td>0.30</td>\n",
       "      <td>0.50</td>\n",
       "      <td>0.70</td>\n",
       "      <td>3.80</td>\n",
       "    </tr>\n",
       "    <tr>\n",
       "      <th>Neutrophils</th>\n",
       "      <td>14681.0</td>\n",
       "      <td>4715.316600</td>\n",
       "      <td>2497.819988</td>\n",
       "      <td>20.00</td>\n",
       "      <td>3000.00</td>\n",
       "      <td>4068.00</td>\n",
       "      <td>5757.00</td>\n",
       "      <td>29626.00</td>\n",
       "    </tr>\n",
       "    <tr>\n",
       "      <th>Neutrophils%</th>\n",
       "      <td>14681.0</td>\n",
       "      <td>60.628469</td>\n",
       "      <td>12.912751</td>\n",
       "      <td>1.60</td>\n",
       "      <td>51.80</td>\n",
       "      <td>59.80</td>\n",
       "      <td>69.20</td>\n",
       "      <td>97.90</td>\n",
       "    </tr>\n",
       "  </tbody>\n",
       "</table>\n",
       "</div>"
      ],
      "text/plain": [
       "                 count         mean          std    min      25%      50%  \\\n",
       "Age            14681.0    45.080955    18.092217   0.10    34.00    43.50   \n",
       "Hematocrit     14681.0    40.321108     4.572492  16.17    37.60    40.50   \n",
       "Hemoglobin     14681.0    13.731252     1.664699   5.25    12.70    13.80   \n",
       "RedBloodCells  14681.0     4.661064     0.589580   1.79     4.31     4.67   \n",
       "Leukocytes     14681.0     7.514633     2.861598   0.53     5.60     7.01   \n",
       "Platelets      14681.0   242.594374    71.740445   9.00   196.00   236.00   \n",
       "MPV            14681.0    10.287869     0.941792   7.60     9.60    10.20   \n",
       "MCV            14681.0    86.796175     5.005622  55.10    84.10    87.00   \n",
       "MCHC           14681.0    34.035963     1.045723  27.40    33.40    34.00   \n",
       "MCH            14681.0    29.543968     1.919510  16.70    28.60    29.70   \n",
       "RDW            14681.0    13.024925     1.304113  10.70    12.30    12.80   \n",
       "Monocytes      14681.0   609.809618   268.334409   0.00   433.00   559.00   \n",
       "Monocytes%     14681.0     8.444797     3.042613   0.00     6.60     8.00   \n",
       "Lymphocytes    14681.0  1976.176146  1131.704930  60.00  1389.00  1892.00   \n",
       "Lymphocytes%   14681.0    27.982015    11.370309   0.50    19.90    28.20   \n",
       "Eosinophils    14681.0   166.715959   181.564182   0.00    58.00   119.00   \n",
       "Eosinophils%   14681.0     2.337495     2.342760   0.00     0.80     1.70   \n",
       "Basophils      14681.0    35.941217    22.227496   0.00    20.00    32.00   \n",
       "Basophils%     14681.0     0.511345     0.320402   0.00     0.30     0.50   \n",
       "Neutrophils    14681.0  4715.316600  2497.819988  20.00  3000.00  4068.00   \n",
       "Neutrophils%   14681.0    60.628469    12.912751   1.60    51.80    59.80   \n",
       "\n",
       "                   75%       max  \n",
       "Age              56.80     89.10  \n",
       "Hematocrit       43.40     63.60  \n",
       "Hemoglobin       14.90     21.15  \n",
       "RedBloodCells     5.04      7.70  \n",
       "Leukocytes        8.86     81.84  \n",
       "Platelets       281.00    891.00  \n",
       "MPV              10.90     14.70  \n",
       "MCV              89.70    130.40  \n",
       "MCHC             34.70     38.60  \n",
       "MCH              30.70     43.00  \n",
       "RDW              13.40     26.80  \n",
       "Monocytes       726.00   4487.00  \n",
       "Monocytes%        9.70     60.80  \n",
       "Lymphocytes    2439.00  73820.00  \n",
       "Lymphocytes%     35.70     98.40  \n",
       "Eosinophils     215.00   3929.00  \n",
       "Eosinophils%      3.10     28.90  \n",
       "Basophils        49.00    314.00  \n",
       "Basophils%        0.70      3.80  \n",
       "Neutrophils    5757.00  29626.00  \n",
       "Neutrophils%     69.20     97.90  "
      ]
     },
     "execution_count": 17,
     "metadata": {},
     "output_type": "execute_result"
    }
   ],
   "source": [
    "df_numeric.describe().T"
   ]
  },
  {
   "cell_type": "markdown",
   "id": "8649c112",
   "metadata": {},
   "source": [
    "# Outlier Analysis:"
   ]
  },
  {
   "cell_type": "code",
   "execution_count": 18,
   "id": "7f117a21",
   "metadata": {},
   "outputs": [
    {
     "data": {
      "image/png": "[encoded data removed]",
      "text/plain": [
       "<Figure size 1080x720 with 25 Axes>"
      ]
     },
     "metadata": {
      "needs_background": "light"
     },
     "output_type": "display_data"
    }
   ],
   "source": [
    "df_numeric.hist(figsize=(15, 10))\n",
    "plt.subplots_adjust(hspace=0.5);"
   ]
  },
  {
   "cell_type": "markdown",
   "id": "ed873041",
   "metadata": {},
   "source": [
    "Most of the distributions exhibit right-sided skewness. I need to evaluate if I want to cap the data in order to prevent outliers that are greater than two standard deviations from the mean. "
   ]
  },
  {
   "cell_type": "code",
   "execution_count": 19,
   "id": "348d7657",
   "metadata": {},
   "outputs": [
    {
     "data": {
      "image/png": "[encoded data removed]",
      "text/plain": [
       "<Figure size 720x576 with 1 Axes>"
      ]
     },
     "metadata": {
      "needs_background": "light"
     },
     "output_type": "display_data"
    }
   ],
   "source": [
    "df_numeric['Leukocytes'].plot(kind = 'box', figsize = (10,8))\n",
    "plt.show()"
   ]
  },
  {
   "cell_type": "markdown",
   "id": "b795d008",
   "metadata": {},
   "source": [
    "I can see that my data is subject to outliers on both extreme ends. As someone with medical knowledge I'm curious as to what the units for these lab values are. The normal Leukocyte range in America is 4,500 to 11,000 WBC per microliter. This data was pulled from Brazil and as far as I can see their measurements are not different. Regardless, I will practice capping the data. If I were using a linear regression moving forward I would want to normalize the entire data set. As I will be leaning more towards decision trees I won't need to worry about outliers and unbalanced y labels."
   ]
  },
  {
   "cell_type": "code",
   "execution_count": 20,
   "id": "658c8f69",
   "metadata": {},
   "outputs": [],
   "source": [
    "# save the data to a new csv file\n",
    "df_cleaned = df\n",
    "df.to_csv('df_cleaned.csv', index=False)"
   ]
  },
  {
   "cell_type": "code",
   "execution_count": 21,
   "id": "db12b898",
   "metadata": {},
   "outputs": [
    {
     "data": {
      "image/png": "[encoded data removed]",
      "text/plain": [
       "<Figure size 1296x1296 with 2 Axes>"
      ]
     },
     "metadata": {
      "needs_background": "light"
     },
     "output_type": "display_data"
    }
   ],
   "source": [
    "corr = df_cleaned.corr()\n",
    "plt.figure(figsize=(18,18))\n",
    "sns.heatmap(corr, cmap='coolwarm', annot = True)\n",
    "plt.show()"
   ]
  },
  {
   "cell_type": "code",
   "execution_count": 22,
   "id": "3a3e4165",
   "metadata": {},
   "outputs": [
    {
     "data": {
      "image/png": "[encoded data removed]",
      "text/plain": [
       "<Figure size 432x288 with 1 Axes>"
      ]
     },
     "metadata": {
      "needs_background": "light"
     },
     "output_type": "display_data"
    }
   ],
   "source": [
    "sns.regplot(x=\"Hemoglobin\", y=\"Hematocrit\", scatter_kws={\"color\": \"blue\"}, line_kws={\"color\": \"red\"}, data=df_cleaned);"
   ]
  },
  {
   "cell_type": "markdown",
   "id": "78f65832",
   "metadata": {},
   "source": [
    "# Pre - Processing"
   ]
  },
  {
   "cell_type": "code",
   "execution_count": 71,
   "id": "4a22b131",
   "metadata": {},
   "outputs": [],
   "source": [
    "from sklearn.preprocessing import scale\n",
    "from sklearn.model_selection import train_test_split, cross_validate, GridSearchCV, learning_curve\n",
    "from sklearn.preprocessing import StandardScaler, MinMaxScaler\n",
    "from sklearn.dummy import DummyRegressor\n",
    "from sklearn.linear_model import LinearRegression\n",
    "from sklearn.ensemble import RandomForestRegressor\n",
    "from sklearn.metrics import r2_score, mean_squared_error, mean_absolute_error\n",
    "from sklearn.pipeline import make_pipeline\n",
    "from sklearn.preprocessing import OneHotEncoder\n",
    "from sklearn.model_selection import RandomizedSearchCV"
   ]
  },
  {
   "cell_type": "code",
   "execution_count": 47,
   "id": "533cc2a0",
   "metadata": {},
   "outputs": [],
   "source": [
    "df_cleaned['Diagnosis'] = df_cleaned.Diagnosis.astype(int)"
   ]
  },
  {
   "cell_type": "code",
   "execution_count": 53,
   "id": "0d70df81",
   "metadata": {},
   "outputs": [],
   "source": [
    "def encode_and_bind(original_dataframe, feature_to_encode):\n",
    "    dummies = pd.get_dummies(original_dataframe[[feature_to_encode]])\n",
    "    res = pd.concat([original_dataframe, dummies], axis=1)\n",
    "    return(res)"
   ]
  },
  {
   "cell_type": "code",
   "execution_count": 54,
   "id": "81405c0a",
   "metadata": {},
   "outputs": [
    {
     "data": {
      "text/html": [
       "<div>\n",
       "<style scoped>\n",
       "    .dataframe tbody tr th:only-of-type {\n",
       "        vertical-align: middle;\n",
       "    }\n",
       "\n",
       "    .dataframe tbody tr th {\n",
       "        vertical-align: top;\n",
       "    }\n",
       "\n",
       "    .dataframe thead th {\n",
       "        text-align: right;\n",
       "    }\n",
       "</style>\n",
       "<table border=\"1\" class=\"dataframe\">\n",
       "  <thead>\n",
       "    <tr style=\"text-align: right;\">\n",
       "      <th></th>\n",
       "      <th>Diagnosis</th>\n",
       "      <th>Age</th>\n",
       "      <th>Sex</th>\n",
       "      <th>Hematocrit</th>\n",
       "      <th>Hemoglobin</th>\n",
       "      <th>RedBloodCells</th>\n",
       "      <th>Leukocytes</th>\n",
       "      <th>Platelets</th>\n",
       "      <th>MPV</th>\n",
       "      <th>MCV</th>\n",
       "      <th>...</th>\n",
       "      <th>Lymphocytes</th>\n",
       "      <th>Lymphocytes%</th>\n",
       "      <th>Eosinophils</th>\n",
       "      <th>Eosinophils%</th>\n",
       "      <th>Basophils</th>\n",
       "      <th>Basophils%</th>\n",
       "      <th>Neutrophils</th>\n",
       "      <th>Neutrophils%</th>\n",
       "      <th>Sex_F</th>\n",
       "      <th>Sex_M</th>\n",
       "    </tr>\n",
       "  </thead>\n",
       "  <tbody>\n",
       "    <tr>\n",
       "      <th>0</th>\n",
       "      <td>0</td>\n",
       "      <td>52.3</td>\n",
       "      <td>F</td>\n",
       "      <td>36.8</td>\n",
       "      <td>12.9</td>\n",
       "      <td>4.25</td>\n",
       "      <td>6.13</td>\n",
       "      <td>220</td>\n",
       "      <td>10.6</td>\n",
       "      <td>86.6</td>\n",
       "      <td>...</td>\n",
       "      <td>1833</td>\n",
       "      <td>29.9</td>\n",
       "      <td>270</td>\n",
       "      <td>4.4</td>\n",
       "      <td>49</td>\n",
       "      <td>0.8</td>\n",
       "      <td>3653</td>\n",
       "      <td>59.6</td>\n",
       "      <td>1</td>\n",
       "      <td>0</td>\n",
       "    </tr>\n",
       "    <tr>\n",
       "      <th>1</th>\n",
       "      <td>0</td>\n",
       "      <td>58.3</td>\n",
       "      <td>M</td>\n",
       "      <td>44.4</td>\n",
       "      <td>14.9</td>\n",
       "      <td>4.89</td>\n",
       "      <td>5.99</td>\n",
       "      <td>148</td>\n",
       "      <td>10.4</td>\n",
       "      <td>90.8</td>\n",
       "      <td>...</td>\n",
       "      <td>779</td>\n",
       "      <td>13.0</td>\n",
       "      <td>78</td>\n",
       "      <td>1.3</td>\n",
       "      <td>30</td>\n",
       "      <td>0.5</td>\n",
       "      <td>4816</td>\n",
       "      <td>80.4</td>\n",
       "      <td>0</td>\n",
       "      <td>1</td>\n",
       "    </tr>\n",
       "    <tr>\n",
       "      <th>2</th>\n",
       "      <td>0</td>\n",
       "      <td>69.3</td>\n",
       "      <td>M</td>\n",
       "      <td>39.7</td>\n",
       "      <td>13.5</td>\n",
       "      <td>4.44</td>\n",
       "      <td>7.42</td>\n",
       "      <td>130</td>\n",
       "      <td>11.0</td>\n",
       "      <td>89.4</td>\n",
       "      <td>...</td>\n",
       "      <td>2078</td>\n",
       "      <td>28.0</td>\n",
       "      <td>89</td>\n",
       "      <td>1.2</td>\n",
       "      <td>59</td>\n",
       "      <td>0.8</td>\n",
       "      <td>4615</td>\n",
       "      <td>62.2</td>\n",
       "      <td>0</td>\n",
       "      <td>1</td>\n",
       "    </tr>\n",
       "    <tr>\n",
       "      <th>3</th>\n",
       "      <td>0</td>\n",
       "      <td>29.3</td>\n",
       "      <td>M</td>\n",
       "      <td>40.3</td>\n",
       "      <td>14.3</td>\n",
       "      <td>4.71</td>\n",
       "      <td>6.03</td>\n",
       "      <td>204</td>\n",
       "      <td>9.8</td>\n",
       "      <td>85.6</td>\n",
       "      <td>...</td>\n",
       "      <td>2430</td>\n",
       "      <td>40.3</td>\n",
       "      <td>90</td>\n",
       "      <td>1.5</td>\n",
       "      <td>42</td>\n",
       "      <td>0.7</td>\n",
       "      <td>3087</td>\n",
       "      <td>51.2</td>\n",
       "      <td>0</td>\n",
       "      <td>1</td>\n",
       "    </tr>\n",
       "    <tr>\n",
       "      <th>4</th>\n",
       "      <td>0</td>\n",
       "      <td>38.3</td>\n",
       "      <td>M</td>\n",
       "      <td>45.4</td>\n",
       "      <td>15.3</td>\n",
       "      <td>5.37</td>\n",
       "      <td>8.92</td>\n",
       "      <td>157</td>\n",
       "      <td>11.5</td>\n",
       "      <td>84.5</td>\n",
       "      <td>...</td>\n",
       "      <td>1276</td>\n",
       "      <td>14.3</td>\n",
       "      <td>98</td>\n",
       "      <td>1.1</td>\n",
       "      <td>18</td>\n",
       "      <td>0.2</td>\n",
       "      <td>7011</td>\n",
       "      <td>78.6</td>\n",
       "      <td>0</td>\n",
       "      <td>1</td>\n",
       "    </tr>\n",
       "    <tr>\n",
       "      <th>...</th>\n",
       "      <td>...</td>\n",
       "      <td>...</td>\n",
       "      <td>...</td>\n",
       "      <td>...</td>\n",
       "      <td>...</td>\n",
       "      <td>...</td>\n",
       "      <td>...</td>\n",
       "      <td>...</td>\n",
       "      <td>...</td>\n",
       "      <td>...</td>\n",
       "      <td>...</td>\n",
       "      <td>...</td>\n",
       "      <td>...</td>\n",
       "      <td>...</td>\n",
       "      <td>...</td>\n",
       "      <td>...</td>\n",
       "      <td>...</td>\n",
       "      <td>...</td>\n",
       "      <td>...</td>\n",
       "      <td>...</td>\n",
       "      <td>...</td>\n",
       "    </tr>\n",
       "    <tr>\n",
       "      <th>14676</th>\n",
       "      <td>1</td>\n",
       "      <td>88.1</td>\n",
       "      <td>F</td>\n",
       "      <td>35.3</td>\n",
       "      <td>10.7</td>\n",
       "      <td>3.73</td>\n",
       "      <td>7.55</td>\n",
       "      <td>226</td>\n",
       "      <td>10.0</td>\n",
       "      <td>94.6</td>\n",
       "      <td>...</td>\n",
       "      <td>1200</td>\n",
       "      <td>15.9</td>\n",
       "      <td>174</td>\n",
       "      <td>2.3</td>\n",
       "      <td>8</td>\n",
       "      <td>0.1</td>\n",
       "      <td>5391</td>\n",
       "      <td>71.4</td>\n",
       "      <td>1</td>\n",
       "      <td>0</td>\n",
       "    </tr>\n",
       "    <tr>\n",
       "      <th>14677</th>\n",
       "      <td>0</td>\n",
       "      <td>49.1</td>\n",
       "      <td>F</td>\n",
       "      <td>34.8</td>\n",
       "      <td>12.0</td>\n",
       "      <td>4.06</td>\n",
       "      <td>5.37</td>\n",
       "      <td>325</td>\n",
       "      <td>9.6</td>\n",
       "      <td>85.7</td>\n",
       "      <td>...</td>\n",
       "      <td>2143</td>\n",
       "      <td>39.9</td>\n",
       "      <td>102</td>\n",
       "      <td>1.9</td>\n",
       "      <td>48</td>\n",
       "      <td>0.9</td>\n",
       "      <td>2669</td>\n",
       "      <td>49.7</td>\n",
       "      <td>1</td>\n",
       "      <td>0</td>\n",
       "    </tr>\n",
       "    <tr>\n",
       "      <th>14678</th>\n",
       "      <td>1</td>\n",
       "      <td>59.1</td>\n",
       "      <td>M</td>\n",
       "      <td>37.4</td>\n",
       "      <td>12.6</td>\n",
       "      <td>4.72</td>\n",
       "      <td>10.69</td>\n",
       "      <td>387</td>\n",
       "      <td>9.8</td>\n",
       "      <td>79.2</td>\n",
       "      <td>...</td>\n",
       "      <td>2555</td>\n",
       "      <td>23.9</td>\n",
       "      <td>86</td>\n",
       "      <td>0.8</td>\n",
       "      <td>32</td>\n",
       "      <td>0.3</td>\n",
       "      <td>7344</td>\n",
       "      <td>68.7</td>\n",
       "      <td>0</td>\n",
       "      <td>1</td>\n",
       "    </tr>\n",
       "    <tr>\n",
       "      <th>14679</th>\n",
       "      <td>1</td>\n",
       "      <td>89.1</td>\n",
       "      <td>F</td>\n",
       "      <td>42.1</td>\n",
       "      <td>13.3</td>\n",
       "      <td>4.17</td>\n",
       "      <td>5.39</td>\n",
       "      <td>238</td>\n",
       "      <td>10.1</td>\n",
       "      <td>101.0</td>\n",
       "      <td>...</td>\n",
       "      <td>2318</td>\n",
       "      <td>43.0</td>\n",
       "      <td>302</td>\n",
       "      <td>5.6</td>\n",
       "      <td>22</td>\n",
       "      <td>0.4</td>\n",
       "      <td>2302</td>\n",
       "      <td>42.7</td>\n",
       "      <td>1</td>\n",
       "      <td>0</td>\n",
       "    </tr>\n",
       "    <tr>\n",
       "      <th>14680</th>\n",
       "      <td>0</td>\n",
       "      <td>85.1</td>\n",
       "      <td>F</td>\n",
       "      <td>34.9</td>\n",
       "      <td>10.8</td>\n",
       "      <td>3.51</td>\n",
       "      <td>6.77</td>\n",
       "      <td>241</td>\n",
       "      <td>12.0</td>\n",
       "      <td>99.4</td>\n",
       "      <td>...</td>\n",
       "      <td>1591</td>\n",
       "      <td>23.5</td>\n",
       "      <td>230</td>\n",
       "      <td>3.4</td>\n",
       "      <td>41</td>\n",
       "      <td>0.6</td>\n",
       "      <td>4400</td>\n",
       "      <td>65.0</td>\n",
       "      <td>1</td>\n",
       "      <td>0</td>\n",
       "    </tr>\n",
       "  </tbody>\n",
       "</table>\n",
       "<p>14681 rows × 25 columns</p>\n",
       "</div>"
      ],
      "text/plain": [
       "       Diagnosis   Age Sex  Hematocrit  Hemoglobin  RedBloodCells  Leukocytes  \\\n",
       "0              0  52.3   F        36.8        12.9           4.25        6.13   \n",
       "1              0  58.3   M        44.4        14.9           4.89        5.99   \n",
       "2              0  69.3   M        39.7        13.5           4.44        7.42   \n",
       "3              0  29.3   M        40.3        14.3           4.71        6.03   \n",
       "4              0  38.3   M        45.4        15.3           5.37        8.92   \n",
       "...          ...   ...  ..         ...         ...            ...         ...   \n",
       "14676          1  88.1   F        35.3        10.7           3.73        7.55   \n",
       "14677          0  49.1   F        34.8        12.0           4.06        5.37   \n",
       "14678          1  59.1   M        37.4        12.6           4.72       10.69   \n",
       "14679          1  89.1   F        42.1        13.3           4.17        5.39   \n",
       "14680          0  85.1   F        34.9        10.8           3.51        6.77   \n",
       "\n",
       "       Platelets   MPV    MCV  ...  Lymphocytes  Lymphocytes%  Eosinophils  \\\n",
       "0            220  10.6   86.6  ...         1833          29.9          270   \n",
       "1            148  10.4   90.8  ...          779          13.0           78   \n",
       "2            130  11.0   89.4  ...         2078          28.0           89   \n",
       "3            204   9.8   85.6  ...         2430          40.3           90   \n",
       "4            157  11.5   84.5  ...         1276          14.3           98   \n",
       "...          ...   ...    ...  ...          ...           ...          ...   \n",
       "14676        226  10.0   94.6  ...         1200          15.9          174   \n",
       "14677        325   9.6   85.7  ...         2143          39.9          102   \n",
       "14678        387   9.8   79.2  ...         2555          23.9           86   \n",
       "14679        238  10.1  101.0  ...         2318          43.0          302   \n",
       "14680        241  12.0   99.4  ...         1591          23.5          230   \n",
       "\n",
       "       Eosinophils%  Basophils  Basophils%  Neutrophils  Neutrophils%  Sex_F  \\\n",
       "0               4.4         49         0.8         3653          59.6      1   \n",
       "1               1.3         30         0.5         4816          80.4      0   \n",
       "2               1.2         59         0.8         4615          62.2      0   \n",
       "3               1.5         42         0.7         3087          51.2      0   \n",
       "4               1.1         18         0.2         7011          78.6      0   \n",
       "...             ...        ...         ...          ...           ...    ...   \n",
       "14676           2.3          8         0.1         5391          71.4      1   \n",
       "14677           1.9         48         0.9         2669          49.7      1   \n",
       "14678           0.8         32         0.3         7344          68.7      0   \n",
       "14679           5.6         22         0.4         2302          42.7      1   \n",
       "14680           3.4         41         0.6         4400          65.0      1   \n",
       "\n",
       "       Sex_M  \n",
       "0          0  \n",
       "1          1  \n",
       "2          1  \n",
       "3          1  \n",
       "4          1  \n",
       "...      ...  \n",
       "14676      0  \n",
       "14677      0  \n",
       "14678      1  \n",
       "14679      0  \n",
       "14680      0  \n",
       "\n",
       "[14681 rows x 25 columns]"
      ]
     },
     "execution_count": 54,
     "metadata": {},
     "output_type": "execute_result"
    }
   ],
   "source": [
    "encode_and_bind(df_cleaned, 'Sex')"
   ]
  },
  {
   "cell_type": "code",
   "execution_count": 55,
   "id": "abe98429",
   "metadata": {},
   "outputs": [],
   "source": [
    "X = df_cleaned.drop(['Diagnosis', 'Sex'], axis = 1)\n",
    "y = df_cleaned['Diagnosis']"
   ]
  },
  {
   "cell_type": "code",
   "execution_count": 56,
   "id": "e061f39d",
   "metadata": {},
   "outputs": [],
   "source": [
    "X_train, X_test, y_train, y_test = train_test_split(X, y, test_size=0.3, random_state=47)"
   ]
  },
  {
   "cell_type": "code",
   "execution_count": 57,
   "id": "089b8554",
   "metadata": {},
   "outputs": [
    {
     "data": {
      "text/plain": [
       "((10276, 21), (4405, 21))"
      ]
     },
     "execution_count": 57,
     "metadata": {},
     "output_type": "execute_result"
    }
   ],
   "source": [
    "X_train.shape, X_test.shape"
   ]
  },
  {
   "cell_type": "code",
   "execution_count": 58,
   "id": "1183a2fd",
   "metadata": {},
   "outputs": [
    {
     "data": {
      "text/plain": [
       "((10276,), (4405,))"
      ]
     },
     "execution_count": 58,
     "metadata": {},
     "output_type": "execute_result"
    }
   ],
   "source": [
    "y_train.shape, y_test.shape"
   ]
  },
  {
   "cell_type": "code",
   "execution_count": 59,
   "id": "31354a4b",
   "metadata": {},
   "outputs": [],
   "source": [
    "scaler = StandardScaler()\n",
    "scaler.fit(X_train)\n",
    "X_tr_scaled = scaler.transform(X_train)\n",
    "X_te_scaled = scaler.transform(X_test)"
   ]
  },
  {
   "cell_type": "code",
   "execution_count": null,
   "id": "55dc25c9",
   "metadata": {},
   "outputs": [],
   "source": [
    "from sklearn.neighbors import KNeighborsClassifier\n",
    "from sklearn import metrics"
   ]
  },
  {
   "cell_type": "code",
   "execution_count": null,
   "id": "723d3caa",
   "metadata": {},
   "outputs": [],
   "source": [
    "knn = KNeighborsClassifier(n_neighbors=5)\n",
    "knn.fit(X_train, y_train)\n",
    "y_pred = knn.predict(X_test)"
   ]
  },
  {
   "cell_type": "code",
   "execution_count": null,
   "id": "aa4d8a7e",
   "metadata": {},
   "outputs": [],
   "source": [
    "print(\"Accuracy:\",metrics.accuracy_score(y_test, y_pred))"
   ]
  },
  {
   "cell_type": "markdown",
   "id": "ac59bb65",
   "metadata": {},
   "source": [
    "# Random Forest Model"
   ]
  },
  {
   "cell_type": "code",
   "execution_count": 60,
   "id": "854e2b87",
   "metadata": {},
   "outputs": [],
   "source": [
    "from sklearn.ensemble import RandomForestClassifier\n",
    "from sklearn.metrics import accuracy_score, confusion_matrix, classification_report"
   ]
  },
  {
   "cell_type": "code",
   "execution_count": 61,
   "id": "1e56a160",
   "metadata": {},
   "outputs": [
    {
     "data": {
      "text/plain": [
       "RandomForestClassifier()"
      ]
     },
     "execution_count": 61,
     "metadata": {},
     "output_type": "execute_result"
    }
   ],
   "source": [
    "forest = RandomForestClassifier()\n",
    "forest.fit(X_train, y_train)"
   ]
  },
  {
   "cell_type": "code",
   "execution_count": 62,
   "id": "ca692f10",
   "metadata": {},
   "outputs": [],
   "source": [
    "y_pred_test = forest.predict(X_test)"
   ]
  },
  {
   "cell_type": "code",
   "execution_count": 63,
   "id": "553aae4c",
   "metadata": {},
   "outputs": [
    {
     "data": {
      "text/plain": [
       "0.8980703745743474"
      ]
     },
     "execution_count": 63,
     "metadata": {},
     "output_type": "execute_result"
    }
   ],
   "source": [
    "accuracy_score(y_test, y_pred_test)"
   ]
  },
  {
   "cell_type": "code",
   "execution_count": 64,
   "id": "4bced4ef",
   "metadata": {},
   "outputs": [
    {
     "data": {
      "text/plain": [
       "array([[3742,   66],\n",
       "       [ 383,  214]])"
      ]
     },
     "execution_count": 64,
     "metadata": {},
     "output_type": "execute_result"
    }
   ],
   "source": [
    "confusion_matrix(y_test, y_pred_test)"
   ]
  },
  {
   "cell_type": "code",
   "execution_count": 66,
   "id": "165c8b39",
   "metadata": {},
   "outputs": [
    {
     "data": {
      "image/png": "[encoded data removed]",
      "text/plain": [
       "<Figure size 1152x504 with 2 Axes>"
      ]
     },
     "metadata": {},
     "output_type": "display_data"
    }
   ],
   "source": [
    "matrix = confusion_matrix(y_test, y_pred_test)\n",
    "matrix = matrix.astype('float') / matrix.sum(axis=1)[:, np.newaxis]\n",
    "\n",
    "# Build the plot\n",
    "plt.figure(figsize=(16,7))\n",
    "sns.set(font_scale=1.4)\n",
    "sns.heatmap(matrix, annot=True, annot_kws={'size':10},\n",
    "            cmap=plt.cm.Greens, linewidths=0.2)\n",
    "\n",
    "# Add labels to the plot\n",
    "class_names = ['COVID Positive', 'COVID Negative']\n",
    "tick_marks = np.arange(len(class_names))\n",
    "tick_marks2 = tick_marks + 0.5\n",
    "plt.xticks(tick_marks, class_names, rotation=0)\n",
    "plt.yticks(tick_marks2, class_names, rotation=0)\n",
    "plt.xlabel('Predicted label')\n",
    "plt.ylabel('True label')\n",
    "plt.title('Confusion Matrix for Random Forest Model')\n",
    "plt.show()"
   ]
  },
  {
   "cell_type": "code",
   "execution_count": 67,
   "id": "64d1610d",
   "metadata": {},
   "outputs": [
    {
     "name": "stdout",
     "output_type": "stream",
     "text": [
      "              precision    recall  f1-score   support\n",
      "\n",
      "           0       0.91      0.98      0.94      3808\n",
      "           1       0.76      0.36      0.49       597\n",
      "\n",
      "    accuracy                           0.90      4405\n",
      "   macro avg       0.84      0.67      0.72      4405\n",
      "weighted avg       0.89      0.90      0.88      4405\n",
      "\n"
     ]
    }
   ],
   "source": [
    "print(classification_report(y_test, y_pred_test))"
   ]
  },
  {
   "cell_type": "code",
   "execution_count": 68,
   "id": "a732210a",
   "metadata": {},
   "outputs": [],
   "source": [
    "rf_default_cv_results = cross_validate(forest,X_train, y_train, cv=5)"
   ]
  },
  {
   "cell_type": "code",
   "execution_count": 69,
   "id": "1311e125",
   "metadata": {},
   "outputs": [
    {
     "data": {
      "text/plain": [
       "array([0.89348249, 0.8836983 , 0.89683698, 0.89002433, 0.88953771])"
      ]
     },
     "execution_count": 69,
     "metadata": {},
     "output_type": "execute_result"
    }
   ],
   "source": [
    "rf_cv_scores = rf_default_cv_results['test_score']\n",
    "rf_cv_scores"
   ]
  },
  {
   "cell_type": "code",
   "execution_count": 70,
   "id": "c25b7d9b",
   "metadata": {},
   "outputs": [
    {
     "data": {
      "text/plain": [
       "(0.8907159627746694, 0.004387136315365182)"
      ]
     },
     "execution_count": 70,
     "metadata": {},
     "output_type": "execute_result"
    }
   ],
   "source": [
    "np.mean(rf_cv_scores), np.std(rf_cv_scores)"
   ]
  },
  {
   "cell_type": "code",
   "execution_count": 78,
   "id": "ad6a0292",
   "metadata": {},
   "outputs": [
    {
     "name": "stdout",
     "output_type": "stream",
     "text": [
      "{'n_estimators': [100, 200, 300, 400, 500, 600, 700, 800, 900, 1000], 'max_features': ['auto', 'sqrt'], 'max_depth': [10, 20, 30, 40, 50, 60, 70, 80, 90, 100, 110, None], 'min_samples_split': [2, 5, 10], 'min_samples_leaf': [1, 2, 4], 'bootstrap': [True, False]}\n"
     ]
    }
   ],
   "source": [
    "# Number of trees in random forest\n",
    "n_estimators = [int(x) for x in np.linspace(start = 100, stop = 1000, num = 10)]\n",
    "# Number of features to consider at every split\n",
    "max_features = ['auto', 'sqrt']\n",
    "# Maximum number of levels in tree\n",
    "max_depth = [int(x) for x in np.linspace(10, 110, num = 11)]\n",
    "max_depth.append(None)\n",
    "# Minimum number of samples required to split a node\n",
    "min_samples_split = [2, 5, 10]\n",
    "# Minimum number of samples required at each leaf node\n",
    "min_samples_leaf = [1, 2, 4]\n",
    "# Method of selecting samples for training each tree\n",
    "bootstrap = [True, False]\n",
    "# Create the random grid\n",
    "random_grid = {'n_estimators': n_estimators,\n",
    "               'max_features': max_features,\n",
    "               'max_depth': max_depth,\n",
    "               'min_samples_split': min_samples_split,\n",
    "               'min_samples_leaf': min_samples_leaf,\n",
    "               'bootstrap': bootstrap}\n",
    "print(random_grid)"
   ]
  },
  {
   "cell_type": "code",
   "execution_count": 79,
   "id": "1d01fa7f",
   "metadata": {},
   "outputs": [],
   "source": [
    "rf_random = RandomizedSearchCV(estimator = forest, param_distributions = random_grid, n_iter = 100, cv = 3, verbose=2, random_state=42, n_jobs = -1)"
   ]
  },
  {
   "cell_type": "code",
   "execution_count": 80,
   "id": "0ee158e7",
   "metadata": {},
   "outputs": [
    {
     "name": "stdout",
     "output_type": "stream",
     "text": [
      "Fitting 3 folds for each of 100 candidates, totalling 300 fits\n",
      "[CV] END bootstrap=True, max_depth=30, max_features=sqrt, min_samples_leaf=1, min_samples_split=5, n_estimators=200; total time=   3.6s\n",
      "[CV] END bootstrap=False, max_depth=30, max_features=auto, min_samples_leaf=4, min_samples_split=2, n_estimators=1000; total time=  24.3s\n",
      "[CV] END bootstrap=False, max_depth=60, max_features=sqrt, min_samples_leaf=1, min_samples_split=5, n_estimators=300; total time=   8.2s\n",
      "[CV] END bootstrap=True, max_depth=70, max_features=auto, min_samples_leaf=4, min_samples_split=10, n_estimators=200; total time=   3.4s\n",
      "[CV] END bootstrap=True, max_depth=70, max_features=auto, min_samples_leaf=4, min_samples_split=10, n_estimators=200; total time=   3.4s\n",
      "[CV] END bootstrap=False, max_depth=90, max_features=sqrt, min_samples_leaf=1, min_samples_split=5, n_estimators=400; total time=  11.2s\n",
      "[CV] END bootstrap=False, max_depth=30, max_features=sqrt, min_samples_leaf=2, min_samples_split=10, n_estimators=400; total time=  10.3s\n",
      "[CV] END bootstrap=False, max_depth=30, max_features=sqrt, min_samples_leaf=2, min_samples_split=10, n_estimators=400; total time=  11.0s\n",
      "[CV] END bootstrap=True, max_depth=20, max_features=sqrt, min_samples_leaf=1, min_samples_split=2, n_estimators=500; total time=  10.0s\n",
      "[CV] END bootstrap=True, max_depth=80, max_features=auto, min_samples_leaf=1, min_samples_split=5, n_estimators=300; total time=   5.9s\n",
      "[CV] END bootstrap=False, max_depth=30, max_features=sqrt, min_samples_leaf=1, min_samples_split=10, n_estimators=900; total time=  24.0s\n",
      "[CV] END bootstrap=True, max_depth=None, max_features=auto, min_samples_leaf=2, min_samples_split=2, n_estimators=900; total time=  15.3s\n",
      "[CV] END bootstrap=True, max_depth=20, max_features=sqrt, min_samples_leaf=2, min_samples_split=5, n_estimators=500; total time=   8.4s\n",
      "[CV] END bootstrap=False, max_depth=100, max_features=auto, min_samples_leaf=4, min_samples_split=10, n_estimators=1000; total time=  23.6s\n",
      "[CV] END bootstrap=False, max_depth=100, max_features=sqrt, min_samples_leaf=1, min_samples_split=5, n_estimators=400; total time=  10.6s\n",
      "[CV] END bootstrap=True, max_depth=20, max_features=sqrt, min_samples_leaf=2, min_samples_split=5, n_estimators=600; total time=  10.1s\n",
      "[CV] END bootstrap=True, max_depth=None, max_features=auto, min_samples_leaf=2, min_samples_split=5, n_estimators=400; total time=   6.8s\n",
      "[CV] END bootstrap=True, max_depth=10, max_features=auto, min_samples_leaf=4, min_samples_split=5, n_estimators=100; total time=   1.3s\n",
      "[CV] END bootstrap=True, max_depth=90, max_features=sqrt, min_samples_leaf=4, min_samples_split=2, n_estimators=400; total time=   6.4s\n",
      "[CV] END bootstrap=False, max_depth=90, max_features=auto, min_samples_leaf=2, min_samples_split=5, n_estimators=100; total time=   2.5s\n",
      "[CV] END bootstrap=False, max_depth=80, max_features=sqrt, min_samples_leaf=4, min_samples_split=10, n_estimators=200; total time=   4.8s\n",
      "[CV] END bootstrap=False, max_depth=70, max_features=sqrt, min_samples_leaf=4, min_samples_split=2, n_estimators=600; total time=  14.2s\n",
      "[CV] END bootstrap=False, max_depth=50, max_features=auto, min_samples_leaf=2, min_samples_split=10, n_estimators=1000; total time=  26.2s\n",
      "[CV] END bootstrap=False, max_depth=None, max_features=sqrt, min_samples_leaf=2, min_samples_split=5, n_estimators=700; total time=  18.6s\n",
      "[CV] END bootstrap=True, max_depth=80, max_features=sqrt, min_samples_leaf=2, min_samples_split=10, n_estimators=700; total time=  12.2s\n",
      "[CV] END bootstrap=False, max_depth=80, max_features=auto, min_samples_leaf=4, min_samples_split=10, n_estimators=500; total time=  12.7s\n",
      "[CV] END bootstrap=True, max_depth=None, max_features=auto, min_samples_leaf=2, min_samples_split=10, n_estimators=800; total time=  13.8s\n",
      "[CV] END bootstrap=True, max_depth=70, max_features=auto, min_samples_leaf=2, min_samples_split=2, n_estimators=700; total time=  12.5s\n",
      "[CV] END bootstrap=False, max_depth=80, max_features=sqrt, min_samples_leaf=4, min_samples_split=2, n_estimators=700; total time=  18.2s\n",
      "[CV] END bootstrap=True, max_depth=60, max_features=sqrt, min_samples_leaf=2, min_samples_split=5, n_estimators=900; total time=  15.3s\n",
      "[CV] END bootstrap=True, max_depth=None, max_features=sqrt, min_samples_leaf=1, min_samples_split=10, n_estimators=800; total time=  14.1s\n",
      "[CV] END bootstrap=True, max_depth=80, max_features=auto, min_samples_leaf=4, min_samples_split=5, n_estimators=100; total time=   1.6s\n",
      "[CV] END bootstrap=True, max_depth=100, max_features=auto, min_samples_leaf=2, min_samples_split=10, n_estimators=300; total time=   5.0s\n",
      "[CV] END bootstrap=True, max_depth=100, max_features=auto, min_samples_leaf=4, min_samples_split=5, n_estimators=500; total time=   7.9s\n",
      "[CV] END bootstrap=False, max_depth=None, max_features=auto, min_samples_leaf=2, min_samples_split=10, n_estimators=400; total time=  10.1s\n",
      "[CV] END bootstrap=False, max_depth=40, max_features=sqrt, min_samples_leaf=1, min_samples_split=10, n_estimators=300; total time=   7.9s\n",
      "[CV] END bootstrap=True, max_depth=10, max_features=sqrt, min_samples_leaf=2, min_samples_split=10, n_estimators=500; total time=   6.5s\n",
      "[CV] END bootstrap=False, max_depth=None, max_features=sqrt, min_samples_leaf=4, min_samples_split=5, n_estimators=1000; total time=  24.4s\n",
      "[CV] END bootstrap=True, max_depth=40, max_features=auto, min_samples_leaf=2, min_samples_split=10, n_estimators=1000; total time=  15.0s\n"
     ]
    },
    {
     "data": {
      "text/plain": [
       "RandomizedSearchCV(cv=3, estimator=RandomForestClassifier(), n_iter=100,\n",
       "                   n_jobs=-1,\n",
       "                   param_distributions={'bootstrap': [True, False],\n",
       "                                        'max_depth': [10, 20, 30, 40, 50, 60,\n",
       "                                                      70, 80, 90, 100, 110,\n",
       "                                                      None],\n",
       "                                        'max_features': ['auto', 'sqrt'],\n",
       "                                        'min_samples_leaf': [1, 2, 4],\n",
       "                                        'min_samples_split': [2, 5, 10],\n",
       "                                        'n_estimators': [100, 200, 300, 400,\n",
       "                                                         500, 600, 700, 800,\n",
       "                                                         900, 1000]},\n",
       "                   random_state=42, verbose=2)"
      ]
     },
     "execution_count": 80,
     "metadata": {},
     "output_type": "execute_result"
    }
   ],
   "source": [
    "rf_random.fit(X_train, y_train)"
   ]
  },
  {
   "cell_type": "code",
   "execution_count": 89,
   "id": "15335c68",
   "metadata": {},
   "outputs": [
    {
     "data": {
      "text/plain": [
       "RandomForestClassifier(bootstrap=False, max_depth=40, n_estimators=700)"
      ]
     },
     "execution_count": 89,
     "metadata": {},
     "output_type": "execute_result"
    }
   ],
   "source": [
    "rf_random.best_estimator_"
   ]
  },
  {
   "cell_type": "markdown",
   "id": "397acfea",
   "metadata": {},
   "source": [
    "Use best estimator features to see if they imporved accuracy in Random Forest Model"
   ]
  },
  {
   "cell_type": "code",
   "execution_count": 90,
   "id": "a6e0dc15",
   "metadata": {},
   "outputs": [],
   "source": [
    "forest_best = RandomForestClassifier(bootstrap=False, max_depth=40, n_estimators=700)"
   ]
  },
  {
   "cell_type": "code",
   "execution_count": 91,
   "id": "f48ece18",
   "metadata": {},
   "outputs": [
    {
     "data": {
      "text/plain": [
       "RandomForestClassifier(bootstrap=False, max_depth=40, n_estimators=700)"
      ]
     },
     "execution_count": 91,
     "metadata": {},
     "output_type": "execute_result"
    }
   ],
   "source": [
    "forest_best.fit(X_train, y_train)"
   ]
  },
  {
   "cell_type": "code",
   "execution_count": 92,
   "id": "00f7d99a",
   "metadata": {},
   "outputs": [],
   "source": [
    "y_pred_test = forest_best.predict(X_test)"
   ]
  },
  {
   "cell_type": "code",
   "execution_count": 93,
   "id": "06069f1a",
   "metadata": {},
   "outputs": [
    {
     "data": {
      "text/plain": [
       "0.8969353007945516"
      ]
     },
     "execution_count": 93,
     "metadata": {},
     "output_type": "execute_result"
    }
   ],
   "source": [
    "accuracy_score(y_test, y_pred_test)"
   ]
  },
  {
   "cell_type": "code",
   "execution_count": 94,
   "id": "9c801107",
   "metadata": {},
   "outputs": [
    {
     "data": {
      "text/plain": [
       "array([[3730,   78],\n",
       "       [ 376,  221]])"
      ]
     },
     "execution_count": 94,
     "metadata": {},
     "output_type": "execute_result"
    }
   ],
   "source": [
    "confusion_matrix(y_test, y_pred_test)"
   ]
  },
  {
   "cell_type": "code",
   "execution_count": 95,
   "id": "06853aa1",
   "metadata": {},
   "outputs": [],
   "source": [
    "rf_default_cv_results = cross_validate(forest_best,X_train, y_train, cv=5)"
   ]
  },
  {
   "cell_type": "code",
   "execution_count": 96,
   "id": "738e4209",
   "metadata": {},
   "outputs": [
    {
     "data": {
      "text/plain": [
       "array([0.88910506, 0.88807786, 0.89294404, 0.89537713, 0.88905109])"
      ]
     },
     "execution_count": 96,
     "metadata": {},
     "output_type": "execute_result"
    }
   ],
   "source": [
    "rf_cv_scores = rf_default_cv_results['test_score']\n",
    "rf_cv_scores"
   ]
  },
  {
   "cell_type": "code",
   "execution_count": 97,
   "id": "1dfb53f4",
   "metadata": {},
   "outputs": [
    {
     "data": {
      "text/plain": [
       "(0.890911036004052, 0.00278664371306652)"
      ]
     },
     "execution_count": 97,
     "metadata": {},
     "output_type": "execute_result"
    }
   ],
   "source": [
    "np.mean(rf_cv_scores), np.std(rf_cv_scores)"
   ]
  },
  {
   "cell_type": "code",
   "execution_count": null,
   "id": "5f15a554",
   "metadata": {},
   "outputs": [],
   "source": []
  },
  {
   "cell_type": "markdown",
   "id": "918852b5",
   "metadata": {},
   "source": [
    "# kNN Model"
   ]
  },
  {
   "cell_type": "markdown",
   "id": "dbf6376d",
   "metadata": {},
   "source": [
    "Scale data for models that are distance-based (i.e. kNN, SVM)"
   ]
  }
 ],
 "metadata": {
  "kernelspec": {
   "display_name": "Python 3 (ipykernel)",
   "language": "python",
   "name": "python3"
  },
  "language_info": {
   "codemirror_mode": {
    "name": "ipython",
    "version": 3
   },
   "file_extension": ".py",
   "mimetype": "text/x-python",
   "name": "python",
   "nbconvert_exporter": "python",
   "pygments_lexer": "ipython3",
   "version": "3.9.7"
  }
 },
 "nbformat": 4,
 "nbformat_minor": 5
}
